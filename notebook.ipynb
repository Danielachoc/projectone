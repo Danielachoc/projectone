{
 "cells": [
  {
   "cell_type": "markdown",
   "metadata": {},
   "source": [
    "### 1"
   ]
  },
  {
   "cell_type": "markdown",
   "metadata": {},
   "source": [
    "# Part 1 - Defining the class"
   ]
  },
  {
   "cell_type": "code",
   "execution_count": 1,
   "metadata": {},
   "outputs": [],
   "source": [
    "# Base Class\n",
    "class GeneralNeuron:\n",
    "    def __init__(self, firing_rate):\n",
    "        self.firing_rate = firing_rate\n",
    "\n",
    "    def activate(self, stimulus_strength):\n",
    "        pass\n",
    "\n",
    "# Intermediate Class: SensoryNeuron\n",
    "class SensoryNeuron(GeneralNeuron):\n",
    "    def __init__(self, firing_rate, receptor_type):\n",
    "        super().__init__(firing_rate)\n",
    "        self.receptor_type = receptor_type\n",
    "\n",
    "    def sense_stimulus(self, stimulus):\n",
    "        pass\n",
    "\n",
    "# Intermediate Class: MotorNeuron\n",
    "class MotorNeuron(GeneralNeuron):\n",
    "    def __init__(self, firing_rate, target_muscle):\n",
    "        super().__init__(firing_rate)\n",
    "        self.target_muscle = target_muscle\n",
    "\n",
    "    def control_muscle(self, activation_level):\n",
    "        pass\n",
    "\n",
    "# Leaf Class: Photoreceptor\n",
    "class Photoreceptor(SensoryNeuron):\n",
    "    def __init__(self, firing_rate):\n",
    "        super().__init__(firing_rate, receptor_type=\"light\")\n",
    "\n",
    "    def light_detection(self, light_intensity):\n",
    "        pass\n",
    "\n",
    "# Leaf Class: Mechanoreceptor\n",
    "class Mechanoreceptor(SensoryNeuron):\n",
    "    def __init__(self, firing_rate):\n",
    "        super().__init__(firing_rate, receptor_type=\"pressure\")\n",
    "\n",
    "    def pressure_detection(self, pressure_level):\n",
    "        pass\n",
    "\n",
    "# Leaf Class: AlphaMotorNeuron\n",
    "class AlphaMotorNeuron(MotorNeuron):\n",
    "    def __init__(self, firing_rate):\n",
    "        super().__init__(firing_rate, target_muscle=\"skeletal muscle\")\n",
    "\n",
    "    def skeletal_muscle_control(self, activation_level):\n",
    "        pass\n",
    "\n",
    "# Leaf Class: GammaMotorNeuron\n",
    "class GammaMotorNeuron(MotorNeuron):\n",
    "    def __init__(self, firing_rate):\n",
    "        super().__init__(firing_rate, target_muscle=\"muscle spindle\")\n",
    "\n",
    "    def muscle_spindle_control(self, activation_level):\n",
    "        pass\n"
   ]
  },
  {
   "cell_type": "markdown",
   "metadata": {},
   "source": [
    "### 2"
   ]
  },
  {
   "cell_type": "markdown",
   "metadata": {},
   "source": [
    "# Part 2 – NumPy, Pandas, MatPlotLib, Question 1"
   ]
  },
  {
   "cell_type": "code",
   "execution_count": null,
   "metadata": {},
   "outputs": [
    {
     "name": "stdout",
     "output_type": "stream",
     "text": [
      "hello\n"
     ]
    }
   ],
   "source": [
    "import numpy as np\n",
    "import matplotlib.pyplot as plt\n",
    "\n",
    "def downsample_signal(signal):\n",
    "    # Find indices of maxima and minima\n",
    "    maxima = np.where((signal[1:-1] > signal[:-2]) & (signal[1:-1] > signal[2:]))[0] + 1\n",
    "    minima = np.where((signal[1:-1] < signal[:-2]) & (signal[1:-1] < signal[2:]))[0] + 1\n",
    "\n",
    "    # Combine and sort indices\n",
    "    critical_points = np.sort(np.concatenate([maxima, minima]))\n",
    "\n",
    "    # Downsample: every 5th point + critical points\n",
    "    downsampled_indices = np.unique(np.concatenate([critical_points, np.arange(0, len(signal), 5)]))\n",
    "    return signal[downsampled_indices]\n",
    "\n",
    "# Test the function\n",
    "t = np.arange(0, 1, 0.01)  # Time array\n",
    "signal = np.sin(2 * np.pi * 5 * t)  # 5 Hz sinusoidal signal\n",
    "\n",
    "downsampled_signal = downsample_signal(signal)\n",
    "\n",
    "# Plot original and downsampled signal\n",
    "plt.plot(t, signal, label=\"Original Signal\")\n",
    "plt.scatter(t[np.arange(0, len(signal), 5)], downsampled_signal, color='red', label=\"Downsampled Signal\")\n",
    "plt.legend()\n",
    "plt.xlabel(\"Time (s)\")\n",
    "plt.ylabel(\"Amplitude\")\n",
    "plt.title(\"Sinusoidal Signal Sampling\")\n",
    "plt.show()\n"
   ]
  },
  {
   "cell_type": "markdown",
   "metadata": {},
   "source": [
    "# Part 2 – NumPy, Pandas, MatPlotLib, Question 2"
   ]
  },
  {
   "cell_type": "code",
   "execution_count": null,
   "metadata": {},
   "outputs": [],
   "source": [
    "import pandas as pd\n",
    "import numpy as np\n",
    "import matplotlib.pyplot as plt\n",
    "\n",
    "# Load dataset\n",
    "file_path = \"laptop-price-dataset.csv\"  # Update with actual path\n",
    "df = pd.read_csv(file_path)\n",
    "\n",
    "# Plot all laptop prices\n",
    "plt.plot(df[\"Price\"], label=\"Laptop Prices\")\n",
    "plt.title(\"Laptop Prices\")\n",
    "plt.xlabel(\"Laptop Index\")\n",
    "plt.ylabel(\"Price ($)\")\n",
    "plt.legend()\n",
    "plt.show()\n",
    "\n",
    "# Average price per company\n",
    "average_price = df.groupby(\"Company\")[\"Price\"].mean()\n",
    "most_expensive_company = average_price.idxmax()\n",
    "\n",
    "print(\"Most Expensive Company:\", most_expensive_company)\n",
    "print(\"Average Prices:\")\n",
    "print(average_price)\n",
    "\n",
    "# Standardize operating systems\n",
    "df[\"OpSys\"] = df[\"OpSys\"].str.lower().str.strip().replace({\"windows 10\": \"windows\", \"windows 7\": \"windows\"})\n",
    "unique_opsys = df[\"OpSys\"].unique()\n",
    "print(\"Unique Operating Systems:\", unique_opsys)\n",
    "\n",
    "# Plot distribution of prices by operating system\n",
    "for os in unique_opsys:\n",
    "    df[df[\"OpSys\"] == os][\"Price\"].hist(alpha=0.5, label=os)\n",
    "plt.legend()\n",
    "plt.title(\"Price Distribution by Operating System\")\n",
    "plt.xlabel(\"Price ($)\")\n",
    "plt.ylabel(\"Count\")\n",
    "plt.show()\n",
    "\n",
    "# Relationship between RAM and Price\n",
    "plt.scatter(df[\"RAM\"], df[\"Price\"])\n",
    "plt.title(\"Relationship between RAM and Price\")\n",
    "plt.xlabel(\"RAM (GB)\")\n",
    "plt.ylabel(\"Price ($)\")\n",
    "plt.show()\n",
    "\n",
    "# Extract storage type\n",
    "df[\"Storage Type\"] = df[\"Memory\"].str.extract(r\"([A-Za-z]+)$\")\n",
    "print(\"Storage Types Extracted:\", df[\"Storage Type\"].unique())\n"
   ]
  }
 ],
 "metadata": {
  "kernelspec": {
   "display_name": "Python 3",
   "language": "python",
   "name": "python3"
  },
  "language_info": {
   "codemirror_mode": {
    "name": "ipython",
    "version": 3
   },
   "file_extension": ".py",
   "mimetype": "text/x-python",
   "name": "python",
   "nbconvert_exporter": "python",
   "pygments_lexer": "ipython3",
   "version": "3.13.0"
  }
 },
 "nbformat": 4,
 "nbformat_minor": 2
}
